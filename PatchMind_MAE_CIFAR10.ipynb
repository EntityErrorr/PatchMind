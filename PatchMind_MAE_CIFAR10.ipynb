{
  "nbformat": 4,
  "nbformat_minor": 0,
  "metadata": {
    "colab": {
      "provenance": [],
      "gpuType": "T4"
    },
    "kernelspec": {
      "name": "python3",
      "display_name": "Python 3"
    },
    "language_info": {
      "name": "python"
    },
    "accelerator": "GPU",
    "widgets": {
      "application/vnd.jupyter.widget-state+json": {
        "07df9eef724f448f9c275bcfe60dbab6": {
          "model_module": "@jupyter-widgets/controls",
          "model_name": "HBoxModel",
          "model_module_version": "1.5.0",
          "state": {
            "_dom_classes": [],
            "_model_module": "@jupyter-widgets/controls",
            "_model_module_version": "1.5.0",
            "_model_name": "HBoxModel",
            "_view_count": null,
            "_view_module": "@jupyter-widgets/controls",
            "_view_module_version": "1.5.0",
            "_view_name": "HBoxView",
            "box_style": "",
            "children": [
              "IPY_MODEL_e8df443bcc844e74b3cd77cb2f3a5989",
              "IPY_MODEL_0dfe48f09ce84a9482648e50bc8943cb",
              "IPY_MODEL_49680694401f4cb3bbe2481d65949adf"
            ],
            "layout": "IPY_MODEL_82e28c399eeb4f829ad3a2d0de4ed7f8"
          }
        },
        "e8df443bcc844e74b3cd77cb2f3a5989": {
          "model_module": "@jupyter-widgets/controls",
          "model_name": "HTMLModel",
          "model_module_version": "1.5.0",
          "state": {
            "_dom_classes": [],
            "_model_module": "@jupyter-widgets/controls",
            "_model_module_version": "1.5.0",
            "_model_name": "HTMLModel",
            "_view_count": null,
            "_view_module": "@jupyter-widgets/controls",
            "_view_module_version": "1.5.0",
            "_view_name": "HTMLView",
            "description": "",
            "description_tooltip": null,
            "layout": "IPY_MODEL_653dd023b9384b9e837c45e4d28914a1",
            "placeholder": "​",
            "style": "IPY_MODEL_ed76ed52644d41c3a60a317dd25dd55a",
            "value": "model.safetensors: 100%"
          }
        },
        "0dfe48f09ce84a9482648e50bc8943cb": {
          "model_module": "@jupyter-widgets/controls",
          "model_name": "FloatProgressModel",
          "model_module_version": "1.5.0",
          "state": {
            "_dom_classes": [],
            "_model_module": "@jupyter-widgets/controls",
            "_model_module_version": "1.5.0",
            "_model_name": "FloatProgressModel",
            "_view_count": null,
            "_view_module": "@jupyter-widgets/controls",
            "_view_module_version": "1.5.0",
            "_view_name": "ProgressView",
            "bar_style": "success",
            "description": "",
            "description_tooltip": null,
            "layout": "IPY_MODEL_9c3793e8678d46df9bb7ebee2e92fdd3",
            "max": 22883348,
            "min": 0,
            "orientation": "horizontal",
            "style": "IPY_MODEL_8b7dc4f24b8a4c4395464784cb9e9bea",
            "value": 22883348
          }
        },
        "49680694401f4cb3bbe2481d65949adf": {
          "model_module": "@jupyter-widgets/controls",
          "model_name": "HTMLModel",
          "model_module_version": "1.5.0",
          "state": {
            "_dom_classes": [],
            "_model_module": "@jupyter-widgets/controls",
            "_model_module_version": "1.5.0",
            "_model_name": "HTMLModel",
            "_view_count": null,
            "_view_module": "@jupyter-widgets/controls",
            "_view_module_version": "1.5.0",
            "_view_name": "HTMLView",
            "description": "",
            "description_tooltip": null,
            "layout": "IPY_MODEL_eec65e0409814726a48c49159857148d",
            "placeholder": "​",
            "style": "IPY_MODEL_3565f222ba80462a9bbea51412b4e184",
            "value": " 22.9M/22.9M [00:00&lt;00:00, 62.4MB/s]"
          }
        },
        "82e28c399eeb4f829ad3a2d0de4ed7f8": {
          "model_module": "@jupyter-widgets/base",
          "model_name": "LayoutModel",
          "model_module_version": "1.2.0",
          "state": {
            "_model_module": "@jupyter-widgets/base",
            "_model_module_version": "1.2.0",
            "_model_name": "LayoutModel",
            "_view_count": null,
            "_view_module": "@jupyter-widgets/base",
            "_view_module_version": "1.2.0",
            "_view_name": "LayoutView",
            "align_content": null,
            "align_items": null,
            "align_self": null,
            "border": null,
            "bottom": null,
            "display": null,
            "flex": null,
            "flex_flow": null,
            "grid_area": null,
            "grid_auto_columns": null,
            "grid_auto_flow": null,
            "grid_auto_rows": null,
            "grid_column": null,
            "grid_gap": null,
            "grid_row": null,
            "grid_template_areas": null,
            "grid_template_columns": null,
            "grid_template_rows": null,
            "height": null,
            "justify_content": null,
            "justify_items": null,
            "left": null,
            "margin": null,
            "max_height": null,
            "max_width": null,
            "min_height": null,
            "min_width": null,
            "object_fit": null,
            "object_position": null,
            "order": null,
            "overflow": null,
            "overflow_x": null,
            "overflow_y": null,
            "padding": null,
            "right": null,
            "top": null,
            "visibility": null,
            "width": null
          }
        },
        "653dd023b9384b9e837c45e4d28914a1": {
          "model_module": "@jupyter-widgets/base",
          "model_name": "LayoutModel",
          "model_module_version": "1.2.0",
          "state": {
            "_model_module": "@jupyter-widgets/base",
            "_model_module_version": "1.2.0",
            "_model_name": "LayoutModel",
            "_view_count": null,
            "_view_module": "@jupyter-widgets/base",
            "_view_module_version": "1.2.0",
            "_view_name": "LayoutView",
            "align_content": null,
            "align_items": null,
            "align_self": null,
            "border": null,
            "bottom": null,
            "display": null,
            "flex": null,
            "flex_flow": null,
            "grid_area": null,
            "grid_auto_columns": null,
            "grid_auto_flow": null,
            "grid_auto_rows": null,
            "grid_column": null,
            "grid_gap": null,
            "grid_row": null,
            "grid_template_areas": null,
            "grid_template_columns": null,
            "grid_template_rows": null,
            "height": null,
            "justify_content": null,
            "justify_items": null,
            "left": null,
            "margin": null,
            "max_height": null,
            "max_width": null,
            "min_height": null,
            "min_width": null,
            "object_fit": null,
            "object_position": null,
            "order": null,
            "overflow": null,
            "overflow_x": null,
            "overflow_y": null,
            "padding": null,
            "right": null,
            "top": null,
            "visibility": null,
            "width": null
          }
        },
        "ed76ed52644d41c3a60a317dd25dd55a": {
          "model_module": "@jupyter-widgets/controls",
          "model_name": "DescriptionStyleModel",
          "model_module_version": "1.5.0",
          "state": {
            "_model_module": "@jupyter-widgets/controls",
            "_model_module_version": "1.5.0",
            "_model_name": "DescriptionStyleModel",
            "_view_count": null,
            "_view_module": "@jupyter-widgets/base",
            "_view_module_version": "1.2.0",
            "_view_name": "StyleView",
            "description_width": ""
          }
        },
        "9c3793e8678d46df9bb7ebee2e92fdd3": {
          "model_module": "@jupyter-widgets/base",
          "model_name": "LayoutModel",
          "model_module_version": "1.2.0",
          "state": {
            "_model_module": "@jupyter-widgets/base",
            "_model_module_version": "1.2.0",
            "_model_name": "LayoutModel",
            "_view_count": null,
            "_view_module": "@jupyter-widgets/base",
            "_view_module_version": "1.2.0",
            "_view_name": "LayoutView",
            "align_content": null,
            "align_items": null,
            "align_self": null,
            "border": null,
            "bottom": null,
            "display": null,
            "flex": null,
            "flex_flow": null,
            "grid_area": null,
            "grid_auto_columns": null,
            "grid_auto_flow": null,
            "grid_auto_rows": null,
            "grid_column": null,
            "grid_gap": null,
            "grid_row": null,
            "grid_template_areas": null,
            "grid_template_columns": null,
            "grid_template_rows": null,
            "height": null,
            "justify_content": null,
            "justify_items": null,
            "left": null,
            "margin": null,
            "max_height": null,
            "max_width": null,
            "min_height": null,
            "min_width": null,
            "object_fit": null,
            "object_position": null,
            "order": null,
            "overflow": null,
            "overflow_x": null,
            "overflow_y": null,
            "padding": null,
            "right": null,
            "top": null,
            "visibility": null,
            "width": null
          }
        },
        "8b7dc4f24b8a4c4395464784cb9e9bea": {
          "model_module": "@jupyter-widgets/controls",
          "model_name": "ProgressStyleModel",
          "model_module_version": "1.5.0",
          "state": {
            "_model_module": "@jupyter-widgets/controls",
            "_model_module_version": "1.5.0",
            "_model_name": "ProgressStyleModel",
            "_view_count": null,
            "_view_module": "@jupyter-widgets/base",
            "_view_module_version": "1.2.0",
            "_view_name": "StyleView",
            "bar_color": null,
            "description_width": ""
          }
        },
        "eec65e0409814726a48c49159857148d": {
          "model_module": "@jupyter-widgets/base",
          "model_name": "LayoutModel",
          "model_module_version": "1.2.0",
          "state": {
            "_model_module": "@jupyter-widgets/base",
            "_model_module_version": "1.2.0",
            "_model_name": "LayoutModel",
            "_view_count": null,
            "_view_module": "@jupyter-widgets/base",
            "_view_module_version": "1.2.0",
            "_view_name": "LayoutView",
            "align_content": null,
            "align_items": null,
            "align_self": null,
            "border": null,
            "bottom": null,
            "display": null,
            "flex": null,
            "flex_flow": null,
            "grid_area": null,
            "grid_auto_columns": null,
            "grid_auto_flow": null,
            "grid_auto_rows": null,
            "grid_column": null,
            "grid_gap": null,
            "grid_row": null,
            "grid_template_areas": null,
            "grid_template_columns": null,
            "grid_template_rows": null,
            "height": null,
            "justify_content": null,
            "justify_items": null,
            "left": null,
            "margin": null,
            "max_height": null,
            "max_width": null,
            "min_height": null,
            "min_width": null,
            "object_fit": null,
            "object_position": null,
            "order": null,
            "overflow": null,
            "overflow_x": null,
            "overflow_y": null,
            "padding": null,
            "right": null,
            "top": null,
            "visibility": null,
            "width": null
          }
        },
        "3565f222ba80462a9bbea51412b4e184": {
          "model_module": "@jupyter-widgets/controls",
          "model_name": "DescriptionStyleModel",
          "model_module_version": "1.5.0",
          "state": {
            "_model_module": "@jupyter-widgets/controls",
            "_model_module_version": "1.5.0",
            "_model_name": "DescriptionStyleModel",
            "_view_count": null,
            "_view_module": "@jupyter-widgets/base",
            "_view_module_version": "1.2.0",
            "_view_name": "StyleView",
            "description_width": ""
          }
        }
      }
    }
  },
  "cells": [
    {
      "cell_type": "markdown",
      "source": [
        "## 1. Introduction\n",
        "#Masked Patch Prediction Using Vision Transformers on CIFAR-10: A Self-Supervised Learning Approach\n",
        "\n",
        "This notebook implements a simplified version of Masked Autoencoder (MAE) using Vision Transformers (ViT) on the CIFAR-10 dataset. The model is trained to reconstruct masked image patches in a self-supervised manner, encouraging it to learn meaningful visual representations without using any labels.\n"
      ],
      "metadata": {
        "id": "3L6gAUvHFi0x"
      }
    },
    {
      "cell_type": "markdown",
      "source": [
        "## 2. Setup & Dependencies\n"
      ],
      "metadata": {
        "id": "JjyWLZn_H7ju"
      }
    },
    {
      "cell_type": "code",
      "source": [
        "#Install required libraries\n",
        "!pip install timm --quiet"
      ],
      "metadata": {
        "colab": {
          "base_uri": "https://localhost:8080/"
        },
        "id": "Q5qvH8htIa74",
        "outputId": "50e0f05b-4576-4cf4-aa86-fdf5138fa639"
      },
      "execution_count": null,
      "outputs": [
        {
          "output_type": "stream",
          "name": "stdout",
          "text": [
            "\u001b[2K   \u001b[90m━━━━━━━━━━━━━━━━━━━━━━━━━━━━━━━━━━━━━━━━\u001b[0m \u001b[32m363.4/363.4 MB\u001b[0m \u001b[31m1.4 MB/s\u001b[0m eta \u001b[36m0:00:00\u001b[0m\n",
            "\u001b[2K   \u001b[90m━━━━━━━━━━━━━━━━━━━━━━━━━━━━━━━━━━━━━━━━\u001b[0m \u001b[32m13.8/13.8 MB\u001b[0m \u001b[31m81.0 MB/s\u001b[0m eta \u001b[36m0:00:00\u001b[0m\n",
            "\u001b[2K   \u001b[90m━━━━━━━━━━━━━━━━━━━━━━━━━━━━━━━━━━━━━━━━\u001b[0m \u001b[32m24.6/24.6 MB\u001b[0m \u001b[31m82.0 MB/s\u001b[0m eta \u001b[36m0:00:00\u001b[0m\n",
            "\u001b[2K   \u001b[90m━━━━━━━━━━━━━━━━━━━━━━━━━━━━━━━━━━━━━━━━\u001b[0m \u001b[32m883.7/883.7 kB\u001b[0m \u001b[31m55.1 MB/s\u001b[0m eta \u001b[36m0:00:00\u001b[0m\n",
            "\u001b[2K   \u001b[90m━━━━━━━━━━━━━━━━━━━━━━━━━━━━━━━━━━━━━━━━\u001b[0m \u001b[32m664.8/664.8 MB\u001b[0m \u001b[31m1.3 MB/s\u001b[0m eta \u001b[36m0:00:00\u001b[0m\n",
            "\u001b[2K   \u001b[90m━━━━━━━━━━━━━━━━━━━━━━━━━━━━━━━━━━━━━━━━\u001b[0m \u001b[32m211.5/211.5 MB\u001b[0m \u001b[31m5.5 MB/s\u001b[0m eta \u001b[36m0:00:00\u001b[0m\n",
            "\u001b[2K   \u001b[90m━━━━━━━━━━━━━━━━━━━━━━━━━━━━━━━━━━━━━━━━\u001b[0m \u001b[32m56.3/56.3 MB\u001b[0m \u001b[31m13.9 MB/s\u001b[0m eta \u001b[36m0:00:00\u001b[0m\n",
            "\u001b[2K   \u001b[90m━━━━━━━━━━━━━━━━━━━━━━━━━━━━━━━━━━━━━━━━\u001b[0m \u001b[32m127.9/127.9 MB\u001b[0m \u001b[31m9.4 MB/s\u001b[0m eta \u001b[36m0:00:00\u001b[0m\n",
            "\u001b[2K   \u001b[90m━━━━━━━━━━━━━━━━━━━━━━━━━━━━━━━━━━━━━━━━\u001b[0m \u001b[32m207.5/207.5 MB\u001b[0m \u001b[31m5.7 MB/s\u001b[0m eta \u001b[36m0:00:00\u001b[0m\n",
            "\u001b[2K   \u001b[90m━━━━━━━━━━━━━━━━━━━━━━━━━━━━━━━━━━━━━━━━\u001b[0m \u001b[32m21.1/21.1 MB\u001b[0m \u001b[31m43.5 MB/s\u001b[0m eta \u001b[36m0:00:00\u001b[0m\n",
            "\u001b[?25h"
          ]
        }
      ]
    },
    {
      "cell_type": "code",
      "source": [
        "#Import libraries\n",
        "import torch\n",
        "import torch.nn as nn\n",
        "import torch.optim as optim\n",
        "from torchvision import datasets, transforms\n",
        "from torch.utils.data import DataLoader\n",
        "import timm\n",
        "import matplotlib.pyplot as plt\n",
        "import numpy as np\n",
        "import random\n",
        "from torchvision import datasets, transforms"
      ],
      "metadata": {
        "id": "TU_xBFvvKS8o"
      },
      "execution_count": null,
      "outputs": []
    },
    {
      "cell_type": "code",
      "source": [
        "#Check for CUDA\n",
        "device = torch.device('cuda' if torch.cuda.is_available() else 'cpu')\n",
        "print(\"Using device:\", device)"
      ],
      "metadata": {
        "colab": {
          "base_uri": "https://localhost:8080/"
        },
        "id": "pvQv0u61Kf5V",
        "outputId": "d744ef57-4256-402a-85ff-0b848d467651"
      },
      "execution_count": null,
      "outputs": [
        {
          "output_type": "stream",
          "name": "stdout",
          "text": [
            "Using device: cuda\n"
          ]
        }
      ]
    },
    {
      "cell_type": "code",
      "source": [
        "#Set random seed for consistency\n",
        "def seed_everything(seed=42):\n",
        "    random.seed(seed)\n",
        "    np.random.seed(seed)\n",
        "    torch.manual_seed(seed)\n",
        "    torch.cuda.manual_seed_all(seed)\n",
        "\n",
        "seed_everything()"
      ],
      "metadata": {
        "id": "akpJsg2FKzfj"
      },
      "execution_count": null,
      "outputs": []
    },
    {
      "cell_type": "markdown",
      "source": [
        "# 3. Dataset Preparation\n",
        "Here, we'll:\n",
        "\n",
        "Load CIFAR-10 data with normalization and augmentation\n",
        "\n",
        "Visualize some sample images\n",
        "\n",
        "Prepare for patching and masking in the next step"
      ],
      "metadata": {
        "id": "ET7915nDLbuu"
      }
    },
    {
      "cell_type": "code",
      "source": [
        "# Define transforms: ToTensor and Normalize with CIFAR-10 stats\n",
        "transform = transforms.Compose([\n",
        "    transforms.ToTensor(),\n",
        "    transforms.Normalize((0.4914, 0.4822, 0.4465),  # mean of CIFAR-10\n",
        "                         (0.2023, 0.1994, 0.2010))  # std of CIFAR-10\n",
        "])\n",
        "\n",
        "# Load datasets\n",
        "train_dataset = datasets.CIFAR10(root='./data', train=True, download=True, transform=transform)\n",
        "test_dataset = datasets.CIFAR10(root='./data', train=False, download=True, transform=transform)\n",
        "\n",
        "# DataLoaders\n",
        "train_loader = DataLoader(train_dataset, batch_size=64, shuffle=True)\n",
        "test_loader = DataLoader(test_dataset, batch_size=64, shuffle=False)"
      ],
      "metadata": {
        "colab": {
          "base_uri": "https://localhost:8080/"
        },
        "id": "k0gy9XkBLgEU",
        "outputId": "b6b9355b-8e51-4460-a39d-2e3b3f445017"
      },
      "execution_count": null,
      "outputs": [
        {
          "output_type": "stream",
          "name": "stderr",
          "text": [
            "100%|██████████| 170M/170M [00:07<00:00, 23.2MB/s]\n"
          ]
        }
      ]
    },
    {
      "cell_type": "code",
      "source": [
        "# Function to unnormalize and show images\n",
        "def imshow(img):\n",
        "    img = img.numpy().transpose((1, 2, 0))  # C x H x W --> H x W x C\n",
        "    mean = np.array([0.4914, 0.4822, 0.4465])\n",
        "    std = np.array([0.2023, 0.1994, 0.2010])\n",
        "    img = std * img + mean  # unnormalize\n",
        "    img = np.clip(img, 0, 1)\n",
        "    plt.imshow(img)\n",
        "    plt.axis('off')\n",
        "\n",
        "\n",
        "dataiter = iter(train_loader)\n",
        "images, labels = next(dataiter)\n",
        "\n",
        "plt.figure(figsize=(12, 4))\n",
        "for idx in range(8):\n",
        "    plt.subplot(1, 8, idx+1)\n",
        "    imshow(images[idx])\n",
        "plt.show()"
      ],
      "metadata": {
        "colab": {
          "base_uri": "https://localhost:8080/",
          "height": 135
        },
        "id": "CIBMjGHVbmbb",
        "outputId": "cf89a170-a5c5-4923-c47f-50a4698bdb84"
      },
      "execution_count": null,
      "outputs": [
        {
          "output_type": "display_data",
          "data": {
            "text/plain": [
              "<Figure size 1200x400 with 8 Axes>"
            ],
            "image/png": "[encoded data removed]"
          },
          "metadata": {}
        }
      ]
    },
    {
      "cell_type": "markdown",
      "source": [
        "# 4. Patching & Masking\n",
        "In this section, we'll:\n",
        "\n",
        "Break the image into patches\n",
        "\n",
        "Randomly mask some patches\n",
        "\n",
        "Prepare them for ViT input"
      ],
      "metadata": {
        "id": "tr_M1shagc5F"
      }
    },
    {
      "cell_type": "code",
      "source": [
        "def patchify(imgs, patch_size=4):\n",
        "    \"\"\"\n",
        "    imgs: (B, C, H, W)\n",
        "    Returns: (B, N, patch_dim)\n",
        "    \"\"\"\n",
        "    B, C, H, W = imgs.shape\n",
        "    assert H % patch_size == 0 and W % patch_size == 0\n",
        "\n",
        "    h, w = H // patch_size, W // patch_size\n",
        "    patches = imgs.reshape(B, C, h, patch_size, w, patch_size)\n",
        "    patches = patches.permute(0, 2, 4, 3, 5, 1)  # [B, h, w, p, p, C]\n",
        "    patches = patches.reshape(B, h * w, patch_size * patch_size * C)  # [B, N, patch_dim]\n",
        "    return patches"
      ],
      "metadata": {
        "id": "8FUrLsZkgltq"
      },
      "execution_count": null,
      "outputs": []
    },
    {
      "cell_type": "code",
      "source": [
        "def random_masking(patches, mask_ratio=0.75):\n",
        "    \"\"\"\n",
        "    Randomly mask a ratio of patches.\n",
        "    Returns:\n",
        "    - masked_patches: same shape as input, with some patches zeroed\n",
        "    - mask: binary mask of shape (B, N) where 1 = masked\n",
        "    \"\"\"\n",
        "    B, N, D = patches.shape\n",
        "    len_keep = int(N * (1 - mask_ratio))\n",
        "\n",
        "    noise = torch.rand(B, N, device=patches.device)\n",
        "    ids_shuffle = noise.argsort(dim=1)\n",
        "    ids_restore = ids_shuffle.argsort(dim=1)\n",
        "\n",
        "    # keep the first part, mask the rest\n",
        "    ids_keep = ids_shuffle[:, :len_keep]\n",
        "\n",
        "    # create mask\n",
        "    mask = torch.ones(B, N, device=patches.device)\n",
        "    mask[:, :len_keep] = 0\n",
        "    mask = torch.gather(mask, dim=1, index=ids_restore)\n",
        "\n",
        "    # apply mask to patches\n",
        "    masked = torch.zeros_like(patches)\n",
        "    for b in range(B):\n",
        "        masked[b, ids_keep[b]] = patches[b, ids_keep[b]]\n",
        "\n",
        "    return masked, mask"
      ],
      "metadata": {
        "id": "5QHj0cC2hHob"
      },
      "execution_count": null,
      "outputs": []
    },
    {
      "cell_type": "code",
      "source": [
        "# Get one batch from train_loader\n",
        "sample_imgs, _ = next(iter(train_loader))\n",
        "sample_imgs = sample_imgs.to(device)\n",
        "\n",
        "# Convert to patches\n",
        "patches = patchify(sample_imgs)\n",
        "\n",
        "# Mask patches\n",
        "masked_patches, patch_mask = random_masking(patches, mask_ratio=0.75)\n",
        "\n",
        "print(\"Original patch shape:\", patches.shape)\n",
        "print(\"Masked patch shape:\", masked_patches.shape)\n",
        "print(\"Mask shape:\", patch_mask.shape)"
      ],
      "metadata": {
        "colab": {
          "base_uri": "https://localhost:8080/"
        },
        "id": "XZZyvQP2hKsj",
        "outputId": "1e31d4b1-1017-46db-eef9-fb6931a23ba0"
      },
      "execution_count": null,
      "outputs": [
        {
          "output_type": "stream",
          "name": "stdout",
          "text": [
            "Original patch shape: torch.Size([64, 64, 48])\n",
            "Masked patch shape: torch.Size([64, 64, 48])\n",
            "Mask shape: torch.Size([64, 64])\n"
          ]
        }
      ]
    },
    {
      "cell_type": "markdown",
      "source": [
        "# 5. Model Architecture\n",
        "Architecture Overview:\n",
        "\n",
        "Encoder: Pretrained or tiny ViT from timm (only processes visible patches).\n",
        "\n",
        "Decoder: A small MLP that reconstructs original patch pixels from latent vectors.\n",
        "\n",
        "Input: Masked patches\n",
        "\n",
        "Output: Reconstructed full patch sequence"
      ],
      "metadata": {
        "id": "q-lQk1OrjnYz"
      }
    },
    {
      "cell_type": "code",
      "source": [
        "import timm\n",
        "\n",
        "class PatchMindMAE(nn.Module):\n",
        "    def __init__(self, encoder_model='vit_tiny_patch16_224',\n",
        "                 patch_dim=48, embed_dim=192, decoder_dim=128, num_patches=64):\n",
        "        super(PatchMindMAE, self).__init__()\n",
        "\n",
        "        #Encoder\n",
        "        self.encoder = timm.create_model(encoder_model, pretrained=True)\n",
        "        self.encoder.reset_classifier(0)\n",
        "        self.encoder.patch_embed.proj = nn.Linear(patch_dim, embed_dim)\n",
        "\n",
        "        #Decoder\n",
        "        self.decoder = nn.Sequential(\n",
        "            nn.Linear(embed_dim, decoder_dim),\n",
        "            nn.ReLU(),\n",
        "            nn.Linear(decoder_dim, patch_dim)\n",
        "        )\n",
        "\n",
        "    def forward(self, masked_patches):\n",
        "        # masked_patches: [B, N, patch_dim]\n",
        "        x = self.encoder.patch_embed.proj(masked_patches)  # linear projection to embedding space\n",
        "        x = self.encoder.pos_drop(x + self.encoder.pos_embed[:, 1:x.size(1)+1, :])  # positional encoding\n",
        "        x = self.encoder.blocks(x)\n",
        "        x = self.encoder.norm(x)\n",
        "\n",
        "        # Decode to reconstruct patches\n",
        "        out = self.decoder(x)  # [B, N, patch_dim]\n",
        "        return out"
      ],
      "metadata": {
        "id": "u4D8SHJnj05k"
      },
      "execution_count": null,
      "outputs": []
    },
    {
      "cell_type": "code",
      "source": [
        "model = PatchMindMAE(\n",
        "    encoder_model='vit_tiny_patch16_224',\n",
        "    patch_dim=48,      # 4x4 patch with 3 channels → 4*4*3 = 48\n",
        "    embed_dim=192,     # ViT tiny's default\n",
        "    decoder_dim=128,   # latent for MLP decoder\n",
        "    num_patches=64     # 32x32 / 4x4 = 64 patches\n",
        ").to(device)\n",
        "\n",
        "print(\"Model initialized. Total parameters:\", sum(p.numel() for p in model.parameters() if p.requires_grad))"
      ],
      "metadata": {
        "colab": {
          "base_uri": "https://localhost:8080/",
          "height": 171,
          "referenced_widgets": [
            "07df9eef724f448f9c275bcfe60dbab6",
            "e8df443bcc844e74b3cd77cb2f3a5989",
            "0dfe48f09ce84a9482648e50bc8943cb",
            "49680694401f4cb3bbe2481d65949adf",
            "82e28c399eeb4f829ad3a2d0de4ed7f8",
            "653dd023b9384b9e837c45e4d28914a1",
            "ed76ed52644d41c3a60a317dd25dd55a",
            "9c3793e8678d46df9bb7ebee2e92fdd3",
            "8b7dc4f24b8a4c4395464784cb9e9bea",
            "eec65e0409814726a48c49159857148d",
            "3565f222ba80462a9bbea51412b4e184"
          ]
        },
        "id": "i5eFtc3EkAA0",
        "outputId": "6ff1e87b-387f-464e-a60c-b63b2b25af6b"
      },
      "execution_count": null,
      "outputs": [
        {
          "output_type": "stream",
          "name": "stderr",
          "text": [
            "/usr/local/lib/python3.11/dist-packages/huggingface_hub/utils/_auth.py:94: UserWarning: \n",
            "The secret `HF_TOKEN` does not exist in your Colab secrets.\n",
            "To authenticate with the Hugging Face Hub, create a token in your settings tab (https://huggingface.co/settings/tokens), set it as secret in your Google Colab and restart your session.\n",
            "You will be able to reuse this secret in all of your notebooks.\n",
            "Please note that authentication is recommended but still optional to access public models or datasets.\n",
            "  warnings.warn(\n"
          ]
        },
        {
          "output_type": "display_data",
          "data": {
            "text/plain": [
              "model.safetensors:   0%|          | 0.00/22.9M [00:00<?, ?B/s]"
            ],
            "application/vnd.jupyter.widget-view+json": {
              "version_major": 2,
              "version_minor": 0,
              "model_id": "07df9eef724f448f9c275bcfe60dbab6"
            }
          },
          "metadata": {}
        },
        {
          "output_type": "stream",
          "name": "stdout",
          "text": [
            "Model initialized. Total parameters: 5417072\n"
          ]
        }
      ]
    },
    {
      "cell_type": "markdown",
      "source": [
        "# 6. Training Loop\n",
        "Here’s what we’ll do:\n",
        "\n",
        "Use MSE loss to compare reconstructed patches with original ones\n",
        "\n",
        "Only compute loss on masked patches\n",
        "\n",
        "Train for a few quick epochs\n",
        "\n",
        "Visualize the loss curve"
      ],
      "metadata": {
        "id": "Uxo9a9-bkWod"
      }
    },
    {
      "cell_type": "code",
      "source": [
        "def compute_loss(original, reconstructed, mask):\n",
        "    \"\"\"\n",
        "    original, reconstructed: [B, N, patch_dim]\n",
        "    mask: [B, N] (1 = masked, 0 = visible)\n",
        "    \"\"\"\n",
        "    loss = ((original - reconstructed) ** 2).mean(dim=-1)  # [B, N]\n",
        "    loss = (loss * mask).sum() / mask.sum()  # only consider masked patches\n",
        "    return loss"
      ],
      "metadata": {
        "id": "EWX7eB-KkZ1k"
      },
      "execution_count": null,
      "outputs": []
    },
    {
      "cell_type": "code",
      "source": [
        "optimizer = optim.AdamW(model.parameters(), lr=1e-4)\n",
        "num_epochs = 10\n",
        "\n",
        "train_losses = []\n",
        "\n",
        "for epoch in range(num_epochs):\n",
        "    model.train()\n",
        "    total_loss = 0\n",
        "    for batch in train_loader:\n",
        "        imgs, _ = batch\n",
        "        imgs = imgs.to(device)\n",
        "\n",
        "        #Patchify\n",
        "        patches = patchify(imgs)  # [B, 64, 48]\n",
        "\n",
        "        #Mask patches\n",
        "        masked_patches, patch_mask = random_masking(patches, mask_ratio=0.75)\n",
        "\n",
        "        #Forward pass\n",
        "        reconstructed = model(masked_patches)\n",
        "\n",
        "        #Compute loss\n",
        "        loss = compute_loss(patches, reconstructed, patch_mask)\n",
        "\n",
        "        #Backprop\n",
        "        optimizer.zero_grad()\n",
        "        loss.backward()\n",
        "        optimizer.step()\n",
        "\n",
        "        total_loss += loss.item()\n",
        "\n",
        "    avg_loss = total_loss / len(train_loader)\n",
        "    train_losses.append(avg_loss)\n",
        "    print(f\"Epoch {epoch+1}/{num_epochs} | Loss: {avg_loss:.4f}\")"
      ],
      "metadata": {
        "colab": {
          "base_uri": "https://localhost:8080/"
        },
        "id": "sAb_nXMYkfy9",
        "outputId": "f8187171-6517-4fc5-ded0-39f0f8821fb3"
      },
      "execution_count": null,
      "outputs": [
        {
          "output_type": "stream",
          "name": "stdout",
          "text": [
            "Epoch 1/10 | Loss: 0.9049\n",
            "Epoch 2/10 | Loss: 0.6728\n",
            "Epoch 3/10 | Loss: 0.5788\n",
            "Epoch 4/10 | Loss: 0.5345\n",
            "Epoch 5/10 | Loss: 0.5106\n",
            "Epoch 6/10 | Loss: 0.4962\n",
            "Epoch 7/10 | Loss: 0.4846\n",
            "Epoch 8/10 | Loss: 0.4785\n",
            "Epoch 9/10 | Loss: 0.4724\n",
            "Epoch 10/10 | Loss: 0.4667\n"
          ]
        }
      ]
    },
    {
      "cell_type": "code",
      "source": [
        "plt.figure(figsize=(8, 4))\n",
        "plt.plot(train_losses, marker='o')\n",
        "plt.title(\"Training Loss Curve\")\n",
        "plt.xlabel(\"Epoch\")\n",
        "plt.ylabel(\"MSE Loss\")\n",
        "plt.grid()\n",
        "plt.show()"
      ],
      "metadata": {
        "colab": {
          "base_uri": "https://localhost:8080/",
          "height": 410
        },
        "id": "Q-XZDs7IkiZD",
        "outputId": "a154c494-9c09-4430-8fc5-23b45a41e241"
      },
      "execution_count": null,
      "outputs": [
        {
          "output_type": "display_data",
          "data": {
            "text/plain": [
              "<Figure size 800x400 with 1 Axes>"
            ],
            "image/png": "[encoded data removed]"
          },
          "metadata": {}
        }
      ]
    },
    {
      "cell_type": "markdown",
      "source": [
        "# 7. Evaluation — Visual Reconstruction\n",
        "We’ll:\n",
        "\n",
        "Take a few test images\n",
        "\n",
        "Mask them\n",
        "\n",
        "Let PatchMind reconstruct them\n",
        "\n",
        "Compare original vs reconstructed"
      ],
      "metadata": {
        "id": "h9g8-MUenmSj"
      }
    },
    {
      "cell_type": "code",
      "source": [
        "def reconstruct_and_visualize(model, dataloader, num_images=5, mask_ratio=0.75):\n",
        "    model.eval()\n",
        "    with torch.no_grad():\n",
        "        imgs, _ = next(iter(dataloader))\n",
        "        imgs = imgs[:num_images].to(device)\n",
        "\n",
        "        # Patchify\n",
        "        patches = patchify(imgs)\n",
        "        masked_patches, patch_mask = random_masking(patches, mask_ratio)\n",
        "\n",
        "        # Reconstruct\n",
        "        output = model(masked_patches)\n",
        "\n",
        "        # Unpatchify for original and reconstructed\n",
        "        def unpatchify(patches, patch_size=4):\n",
        "            B, N, D = patches.shape\n",
        "            h = w = int(N**0.5)\n",
        "            C = D // (patch_size * patch_size)\n",
        "            patches = patches.reshape(B, h, w, patch_size, patch_size, C)\n",
        "            patches = patches.permute(0, 5, 1, 3, 2, 4).contiguous()\n",
        "            imgs = patches.reshape(B, C, h * patch_size, w * patch_size)\n",
        "            return imgs\n",
        "\n",
        "        original_imgs = unpatchify(patches)\n",
        "        reconstructed_imgs = unpatchify(output)\n",
        "        masked_imgs = unpatchify(masked_patches)\n",
        "\n",
        "        # Unnormalize\n",
        "        def unnormalize(imgs):\n",
        "            mean = torch.tensor([0.4914, 0.4822, 0.4465], device=imgs.device).view(1, 3, 1, 1)\n",
        "            std = torch.tensor([0.2023, 0.1994, 0.2010], device=imgs.device).view(1, 3, 1, 1)\n",
        "            return imgs * std + mean\n",
        "\n",
        "        original_imgs = unnormalize(original_imgs).clamp(0, 1)\n",
        "        reconstructed_imgs = unnormalize(reconstructed_imgs).clamp(0, 1)\n",
        "        masked_imgs = unnormalize(masked_imgs).clamp(0, 1)\n",
        "\n",
        "        # Plot\n",
        "        plt.figure(figsize=(15, 6))\n",
        "        for i in range(num_images):\n",
        "            plt.subplot(3, num_images, i+1)\n",
        "            plt.imshow(original_imgs[i].permute(1, 2, 0).cpu())\n",
        "            plt.title(\"Original\")\n",
        "            plt.axis('off')\n",
        "\n",
        "            plt.subplot(3, num_images, i+1+num_images)\n",
        "            plt.imshow(masked_imgs[i].permute(1, 2, 0).cpu())\n",
        "            plt.title(\"Masked\")\n",
        "            plt.axis('off')\n",
        "\n",
        "            plt.subplot(3, num_images, i+1+2*num_images)\n",
        "            plt.imshow(reconstructed_imgs[i].permute(1, 2, 0).cpu())\n",
        "            plt.title(\"Reconstructed\")\n",
        "            plt.axis('off')\n",
        "        plt.tight_layout()\n",
        "        plt.show()\n"
      ],
      "metadata": {
        "id": "bF76I_n3nwAW"
      },
      "execution_count": null,
      "outputs": []
    },
    {
      "cell_type": "code",
      "source": [
        "reconstruct_and_visualize(model, test_loader, num_images=5, mask_ratio=0.75)"
      ],
      "metadata": {
        "colab": {
          "base_uri": "https://localhost:8080/",
          "height": 607
        },
        "id": "JRVH7Wudn4h7",
        "outputId": "94deff80-ca5a-46ee-f5a1-1d3c837ade60"
      },
      "execution_count": null,
      "outputs": [
        {
          "output_type": "display_data",
          "data": {
            "text/plain": [
              "<Figure size 1500x600 with 15 Axes>"
            ],
            "image/png": "[encoded data removed]"
          },
          "metadata": {}
        }
      ]
    }
  ]
}